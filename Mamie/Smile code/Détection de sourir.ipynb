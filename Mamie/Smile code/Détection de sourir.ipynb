{
 "cells": [
  {
   "cell_type": "code",
   "execution_count": 1,
   "id": "f35d1c19-9ef9-4cb6-a47a-2dca2675a1c7",
   "metadata": {},
   "outputs": [
    {
     "name": "stdout",
     "output_type": "stream",
     "text": [
      "Souri\n"
     ]
    }
   ],
   "source": [
    "import cv2\n",
    "import time\n",
    "\n",
    "# Charger les classificateurs pré-entraînés de détection de visages et de sourires\n",
    "face_cascade = cv2.CascadeClassifier(cv2.data.haarcascades + 'haarcascade_frontalface_default.xml')\n",
    "smile_cascade = cv2.CascadeClassifier(cv2.data.haarcascades + 'haarcascade_smile.xml')\n",
    "\n",
    "def detect_smile(frame):\n",
    "    gray = cv2.cvtColor(frame, cv2.COLOR_BGR2GRAY)\n",
    "    \n",
    "    # Détection des visages\n",
    "    faces = face_cascade.detectMultiScale(gray, 1.3, 5)\n",
    "    \n",
    "    for (x, y, w, h) in faces:\n",
    "        # Dessiner un rectangle autour du visage\n",
    "        cv2.rectangle(frame, (x, y), (x+w, y+h), (255, 0, 0), 2)\n",
    "        roi_gray = gray[y:y+h, x:x+w]\n",
    "        roi_color = frame[y:y+h, x:x+w]\n",
    "        \n",
    "        # Détection des sourires\n",
    "        smiles = smile_cascade.detectMultiScale(roi_gray, 1.8, 20)\n",
    "        \n",
    "        for (sx, sy, sw, sh) in smiles:\n",
    "            # Dessiner un rectangle autour du sourire\n",
    "            cv2.rectangle(roi_color, (sx, sy), (sx+sw, sy+sh), (0, 255, 0), 2)\n",
    "            \n",
    "            # Si un sourire est détecté, retourner True\n",
    "            return True\n",
    "    \n",
    "    # Si aucun sourire n'est détecté, retourner False\n",
    "    return False\n",
    "\n",
    "# Ouvrir la caméra\n",
    "cap = cv2.VideoCapture(0)\n",
    "\n",
    "# Exemple d'utilisation avec une durée limite de 1 minute\n",
    "start_time = time.time()\n",
    "timeout = 60  # 1 minute en secondes\n",
    "\n",
    "while True:\n",
    "    ret, frame = cap.read()\n",
    "    if not ret:\n",
    "        print(\"Erreur de capture vidéo\")\n",
    "        break\n",
    "    \n",
    "    if detect_smile(frame):\n",
    "        print(\"Souri\")\n",
    "        break\n",
    "    elif time.time() - start_time > timeout:\n",
    "        print(\"Ne souri pas\")\n",
    "        break\n",
    "    \n",
    "    # Afficher le flux vidéo\n",
    "    cv2.imshow('Video', frame)\n",
    "    \n",
    "    # Appuyer sur 'q' pour quitter la boucle prématurément\n",
    "    if cv2.waitKey(1) & 0xFF == ord('q'):\n",
    "        print(\"Détection terminée par l'utilisateur\")\n",
    "        break\n",
    "\n",
    "# Libérer la caméra et fermer les fenêtres\n",
    "cap.release()\n",
    "cv2.destroyAllWindows()\n"
   ]
  },
  {
   "cell_type": "code",
   "execution_count": null,
   "id": "91801379-54b6-47d2-8778-9baaf450bf47",
   "metadata": {},
   "outputs": [],
   "source": []
  }
 ],
 "metadata": {
  "kernelspec": {
   "display_name": "Python 3 (ipykernel)",
   "language": "python",
   "name": "python3"
  },
  "language_info": {
   "codemirror_mode": {
    "name": "ipython",
    "version": 3
   },
   "file_extension": ".py",
   "mimetype": "text/x-python",
   "name": "python",
   "nbconvert_exporter": "python",
   "pygments_lexer": "ipython3",
   "version": "3.12.3"
  }
 },
 "nbformat": 4,
 "nbformat_minor": 5
}
